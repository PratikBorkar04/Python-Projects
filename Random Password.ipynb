{
 "cells": [
  {
   "cell_type": "code",
   "execution_count": 208,
   "id": "06ecedec",
   "metadata": {
    "scrolled": true
   },
   "outputs": [
    {
     "name": "stdout",
     "output_type": "stream",
     "text": [
      "Vs524\n",
      "nX@5&\n"
     ]
    }
   ],
   "source": [
    "#imported required modules\n",
    "import random\n",
    "from tkinter import *\n",
    "from tkinter import ttk\n",
    "\n",
    "base1 =Tk()\n",
    "base1.geometry(\"375x330+380+85\")\n",
    "base1.title(\"Random Password\")\n",
    "\n",
    "#Create \"Random Password\" Label\n",
    "Label1 = Label(base1 , text = \"Random Password\" , font = (\"Georgia\" , \"16\"),bg = \"lavender\",fg= \"Black\")\n",
    "Label1.place(x = 102 , y = 15)\n",
    "\n",
    "#Create \"----\" Label\n",
    "Label2 = Label(base1 , text = \"-----------------------\" , font = (\"Georgia\" , \"16\"),bg = \"lavender\",fg= \"Black\")\n",
    "Label2.place(x = 102 , y = 45)\n",
    "\n",
    "\n",
    "#Create \"Enter Length of Password\" Label\n",
    "Label3 = Label(base1 , text = \"Enter Length of Password\" , font = (\"Georgia\" , \"14\"),bg = \"lavender\",fg= \"Black\")\n",
    "Label3.place(x = 80 , y = 72)\n",
    "\n",
    "#Create \"Length\" Entry\n",
    "Ent1 = Entry(base1,width = 18,bg= \"white\",font = (\"Arial\" , \"12\"))\n",
    "Ent1.place(x = 110 , y = 114)\n",
    "\n",
    "def clear_box():\n",
    "     Ent1.delete(0,END)\n",
    "\n",
    "#Create \"Clear\" Button\n",
    "Button2 = Button(base1 , width = '10', text = \"Clear\" , bg = \"Red\" , fg = \"White\",command = clear_box)\n",
    "Button2.place(x = 88,y = 155)\n",
    "\n",
    "#Create \"Password\" Label\n",
    "Label3 = Label(base1 , text = \"Password\" , font = (\"Georgia\" , \"14\"),bg = \"lavender\",fg= \"Black\")\n",
    "Label3.place(x = 145 , y = 195)\n",
    "\n",
    "#random method\n",
    "def random_choice():\n",
    "    l1 = [\"A\",\"B\",\"C\",\"D\",\"E\",\"F\",\"G\",\"H\",\"I\",\"J\",\"K\",\"L\",\"M\",\"N\",\"O\",\"P\",\"Q\",\"R\",\"S\",\"T\",\"U\",\"V\",\"W\",\"X\",\"Y\",\"Z\",'a', 'b', 'c', 'd', 'e', 'f', 'g', 'h', 'i', 'j', 'k', 'l', 'm', 'n', 'o','p', 'q', 'r', 's', 't', 'u', 'v', 'w', 'x', 'y', 'z']\n",
    "    l2 = ['0', '1', '2', '3', '4', '5', '6', '7', '8', '9','@','#','$','%','&']\n",
    "    l4 = []\n",
    "    \n",
    "    x = Ent1.get()\n",
    "    n = int(x)\n",
    "    if n % 2 == 0:\n",
    "        z = n // 2\n",
    "        for i in range(z):\n",
    "            ran1 = random.choice(l1)\n",
    "            ran2 = random.choice(l2)\n",
    "            l4.append(ran1)\n",
    "            l4.append(ran2)\n",
    "    else:\n",
    "        z = n // 2\n",
    "        for i in range(z):\n",
    "            ran1 = random.choice(l1)\n",
    "            l4.append(ran1)\n",
    "        for j in range(z+1):\n",
    "            ran2= random.choice(l2)\n",
    "            l4.append(ran2) \n",
    "\n",
    "\n",
    "    random_pass = \"\".join(l4)\n",
    "    print(random_pass)\n",
    "    \n",
    "    #Create \"Generate Password\" Entry\n",
    "    label = Label(base1,width = 18,bg= \"white\",font = (\"Arial\" , \"12\"),text = random_pass,fg = \"black\")\n",
    "    label.place(x = 110 , y = 235)\n",
    "    \n",
    "#Create \"Check\" Button\n",
    "Button3 = Button(base1 , width = '10', text = \"Check\" , bg = \"Dodger blue3\" , fg = \"White\",command = random_choice)\n",
    "Button3.place(x = 218,y = 155)\n",
    "\n",
    "#creare \"Refresh\" Button\n",
    "Button4 = Button(base1 , width = '10', text = \"Refresh\" , bg = \"Green\" , fg = \"White\",command = random_choice)\n",
    "Button4.place(x = 150,y = 275)\n",
    "\n",
    "#Background Color\n",
    "base1.configure(bg = \"lavender\")\n",
    "base1.mainloop()\n"
   ]
  },
  {
   "cell_type": "code",
   "execution_count": null,
   "id": "d1cd3f5f",
   "metadata": {},
   "outputs": [],
   "source": []
  },
  {
   "cell_type": "code",
   "execution_count": null,
   "id": "78d4223a",
   "metadata": {},
   "outputs": [],
   "source": []
  }
 ],
 "metadata": {
  "kernelspec": {
   "display_name": "Python 3",
   "language": "python",
   "name": "python3"
  },
  "language_info": {
   "codemirror_mode": {
    "name": "ipython",
    "version": 3
   },
   "file_extension": ".py",
   "mimetype": "text/x-python",
   "name": "python",
   "nbconvert_exporter": "python",
   "pygments_lexer": "ipython3",
   "version": "3.8.8"
  }
 },
 "nbformat": 4,
 "nbformat_minor": 5
}
